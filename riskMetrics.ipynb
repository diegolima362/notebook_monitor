{
 "cells": [
  {
   "cell_type": "code",
   "execution_count": 1,
   "id": "c66f60cb",
   "metadata": {},
   "outputs": [],
   "source": [
    "import sanitizer as sn\n",
    "import data_reader as dr"
   ]
  },
  {
   "cell_type": "code",
   "execution_count": 2,
   "id": "fa498f11",
   "metadata": {},
   "outputs": [],
   "source": [
    "import matplotlib.pyplot as plt\n",
    "import numpy as np\n",
    "import pandas as pd\n",
    "import seaborn as sns\n",
    "from sklearn import linear_model, metrics\n",
    "from sklearn.model_selection import train_test_split\n",
    "\n",
    "%matplotlib inline"
   ]
  },
  {
   "cell_type": "code",
   "execution_count": 3,
   "id": "ad495a9b",
   "metadata": {},
   "outputs": [],
   "source": [
    "import pprint\n",
    "\n",
    "pp = pprint.PrettyPrinter()"
   ]
  },
  {
   "cell_type": "code",
   "execution_count": 4,
   "id": "b97950be",
   "metadata": {},
   "outputs": [],
   "source": [
    "# mongodb connection details\n",
    "mongodb_URI = \"mongodb://localhost:27017\"\n",
    "dbs = ['riskMetrics12720210940', 'riskMetrics12720211049', 'riskMetrics12720210728', 'riskMetrics12720210714']"
   ]
  },
  {
   "cell_type": "code",
   "execution_count": 5,
   "id": "8772f04e-ee2a-4160-ad68-289e75a5f438",
   "metadata": {},
   "outputs": [],
   "source": [
    "mongo_dbs = [dr.read_data(mongodb_URI, db) for db in dbs]\n",
    "mongo_data = []\n",
    "\n",
    "for d in mongo_dbs:\n",
    "    mongo_data.append([sn.sanitize(a) for a in d])\n",
    "\n",
    "measurements = [item for sublist in mongo_data for item in sublist]"
   ]
  },
  {
   "cell_type": "code",
   "execution_count": 6,
   "id": "ebafd9dc",
   "metadata": {},
   "outputs": [],
   "source": [
    "# Initializing the dataframe\n",
    "data = pd.DataFrame(measurements)"
   ]
  },
  {
   "cell_type": "code",
   "execution_count": 7,
   "id": "2a8491ab-aa50-47fc-a5e5-54319a42daae",
   "metadata": {},
   "outputs": [],
   "source": [
    "# del data['configuration']\n",
    "del data['mvpNode']\n",
    "del data['classification']"
   ]
  },
  {
   "cell_type": "code",
   "execution_count": 8,
   "id": "0886d556",
   "metadata": {},
   "outputs": [
    {
     "data": {
      "text/plain": [
       "(1961, 13)"
      ]
     },
     "execution_count": 8,
     "metadata": {},
     "output_type": "execute_result"
    }
   ],
   "source": [
    "# Check the shape of dataframe\n",
    "data.shape"
   ]
  },
  {
   "cell_type": "code",
   "execution_count": 9,
   "id": "27dfb41a",
   "metadata": {},
   "outputs": [
    {
     "data": {
      "text/html": [
       "<div>\n",
       "<style scoped>\n",
       "    .dataframe tbody tr th:only-of-type {\n",
       "        vertical-align: middle;\n",
       "    }\n",
       "\n",
       "    .dataframe tbody tr th {\n",
       "        vertical-align: top;\n",
       "    }\n",
       "\n",
       "    .dataframe thead th {\n",
       "        text-align: right;\n",
       "    }\n",
       "</style>\n",
       "<table border=\"1\" class=\"dataframe\">\n",
       "  <thead>\n",
       "    <tr style=\"text-align: right;\">\n",
       "      <th></th>\n",
       "      <th>configuration</th>\n",
       "      <th>drugAmount</th>\n",
       "      <th>heartRate</th>\n",
       "      <th>lockoutInterval</th>\n",
       "      <th>riskValue</th>\n",
       "      <th>spo2</th>\n",
       "      <th>takingOtherMedications</th>\n",
       "      <th>o2Supplement</th>\n",
       "      <th>apnea</th>\n",
       "      <th>riskAge</th>\n",
       "      <th>weight</th>\n",
       "      <th>etCO2</th>\n",
       "      <th>respirationRate</th>\n",
       "    </tr>\n",
       "  </thead>\n",
       "  <tbody>\n",
       "    <tr>\n",
       "      <th>0</th>\n",
       "      <td>1</td>\n",
       "      <td>1</td>\n",
       "      <td>60</td>\n",
       "      <td>2</td>\n",
       "      <td>29.0676</td>\n",
       "      <td>98</td>\n",
       "      <td>1</td>\n",
       "      <td>0</td>\n",
       "      <td>0</td>\n",
       "      <td>0</td>\n",
       "      <td>2</td>\n",
       "      <td>NaN</td>\n",
       "      <td>NaN</td>\n",
       "    </tr>\n",
       "    <tr>\n",
       "      <th>1</th>\n",
       "      <td>1</td>\n",
       "      <td>1</td>\n",
       "      <td>60</td>\n",
       "      <td>2</td>\n",
       "      <td>29.0209</td>\n",
       "      <td>98</td>\n",
       "      <td>1</td>\n",
       "      <td>0</td>\n",
       "      <td>0</td>\n",
       "      <td>0</td>\n",
       "      <td>2</td>\n",
       "      <td>NaN</td>\n",
       "      <td>NaN</td>\n",
       "    </tr>\n",
       "    <tr>\n",
       "      <th>2</th>\n",
       "      <td>1</td>\n",
       "      <td>1</td>\n",
       "      <td>60</td>\n",
       "      <td>2</td>\n",
       "      <td>28.8772</td>\n",
       "      <td>98</td>\n",
       "      <td>1</td>\n",
       "      <td>0</td>\n",
       "      <td>0</td>\n",
       "      <td>0</td>\n",
       "      <td>2</td>\n",
       "      <td>NaN</td>\n",
       "      <td>NaN</td>\n",
       "    </tr>\n",
       "    <tr>\n",
       "      <th>3</th>\n",
       "      <td>1</td>\n",
       "      <td>1</td>\n",
       "      <td>60</td>\n",
       "      <td>2</td>\n",
       "      <td>28.7705</td>\n",
       "      <td>98</td>\n",
       "      <td>1</td>\n",
       "      <td>0</td>\n",
       "      <td>0</td>\n",
       "      <td>0</td>\n",
       "      <td>2</td>\n",
       "      <td>NaN</td>\n",
       "      <td>NaN</td>\n",
       "    </tr>\n",
       "    <tr>\n",
       "      <th>4</th>\n",
       "      <td>1</td>\n",
       "      <td>1</td>\n",
       "      <td>60</td>\n",
       "      <td>2</td>\n",
       "      <td>28.8802</td>\n",
       "      <td>98</td>\n",
       "      <td>1</td>\n",
       "      <td>0</td>\n",
       "      <td>0</td>\n",
       "      <td>0</td>\n",
       "      <td>2</td>\n",
       "      <td>NaN</td>\n",
       "      <td>NaN</td>\n",
       "    </tr>\n",
       "  </tbody>\n",
       "</table>\n",
       "</div>"
      ],
      "text/plain": [
       "   configuration  drugAmount  heartRate  lockoutInterval  riskValue  spo2  \\\n",
       "0              1           1         60                2    29.0676    98   \n",
       "1              1           1         60                2    29.0209    98   \n",
       "2              1           1         60                2    28.8772    98   \n",
       "3              1           1         60                2    28.7705    98   \n",
       "4              1           1         60                2    28.8802    98   \n",
       "\n",
       "   takingOtherMedications  o2Supplement  apnea  riskAge  weight  etCO2  \\\n",
       "0                       1             0      0        0       2    NaN   \n",
       "1                       1             0      0        0       2    NaN   \n",
       "2                       1             0      0        0       2    NaN   \n",
       "3                       1             0      0        0       2    NaN   \n",
       "4                       1             0      0        0       2    NaN   \n",
       "\n",
       "   respirationRate  \n",
       "0              NaN  \n",
       "1              NaN  \n",
       "2              NaN  \n",
       "3              NaN  \n",
       "4              NaN  "
      ]
     },
     "execution_count": 9,
     "metadata": {},
     "output_type": "execute_result"
    }
   ],
   "source": [
    "data.head()"
   ]
  },
  {
   "cell_type": "code",
   "execution_count": 10,
   "id": "fbd9273b",
   "metadata": {},
   "outputs": [
    {
     "data": {
      "text/html": [
       "<div>\n",
       "<style scoped>\n",
       "    .dataframe tbody tr th:only-of-type {\n",
       "        vertical-align: middle;\n",
       "    }\n",
       "\n",
       "    .dataframe tbody tr th {\n",
       "        vertical-align: top;\n",
       "    }\n",
       "\n",
       "    .dataframe thead th {\n",
       "        text-align: right;\n",
       "    }\n",
       "</style>\n",
       "<table border=\"1\" class=\"dataframe\">\n",
       "  <thead>\n",
       "    <tr style=\"text-align: right;\">\n",
       "      <th></th>\n",
       "      <th>configuration</th>\n",
       "      <th>drugAmount</th>\n",
       "      <th>heartRate</th>\n",
       "      <th>lockoutInterval</th>\n",
       "      <th>riskValue</th>\n",
       "      <th>spo2</th>\n",
       "      <th>takingOtherMedications</th>\n",
       "      <th>o2Supplement</th>\n",
       "      <th>apnea</th>\n",
       "      <th>riskAge</th>\n",
       "      <th>weight</th>\n",
       "      <th>etCO2</th>\n",
       "      <th>respirationRate</th>\n",
       "    </tr>\n",
       "  </thead>\n",
       "  <tbody>\n",
       "    <tr>\n",
       "      <th>count</th>\n",
       "      <td>1961.000000</td>\n",
       "      <td>1961.000000</td>\n",
       "      <td>1961.000000</td>\n",
       "      <td>1961.000000</td>\n",
       "      <td>1961.00000</td>\n",
       "      <td>1961.000000</td>\n",
       "      <td>1961.0</td>\n",
       "      <td>1961.000000</td>\n",
       "      <td>1961.000000</td>\n",
       "      <td>1961.000000</td>\n",
       "      <td>1961.000000</td>\n",
       "      <td>517.000000</td>\n",
       "      <td>517.000000</td>\n",
       "    </tr>\n",
       "    <tr>\n",
       "      <th>mean</th>\n",
       "      <td>1.527282</td>\n",
       "      <td>1.500765</td>\n",
       "      <td>49.714431</td>\n",
       "      <td>1.767466</td>\n",
       "      <td>52.10994</td>\n",
       "      <td>88.170321</td>\n",
       "      <td>1.0</td>\n",
       "      <td>1.001530</td>\n",
       "      <td>0.506884</td>\n",
       "      <td>0.739419</td>\n",
       "      <td>2.739419</td>\n",
       "      <td>30.121857</td>\n",
       "      <td>14.653772</td>\n",
       "    </tr>\n",
       "    <tr>\n",
       "      <th>std</th>\n",
       "      <td>0.881439</td>\n",
       "      <td>0.500127</td>\n",
       "      <td>6.374378</td>\n",
       "      <td>0.422556</td>\n",
       "      <td>12.39918</td>\n",
       "      <td>6.230239</td>\n",
       "      <td>0.0</td>\n",
       "      <td>1.000254</td>\n",
       "      <td>0.500080</td>\n",
       "      <td>0.439064</td>\n",
       "      <td>0.439064</td>\n",
       "      <td>1.774782</td>\n",
       "      <td>0.881578</td>\n",
       "    </tr>\n",
       "    <tr>\n",
       "      <th>min</th>\n",
       "      <td>1.000000</td>\n",
       "      <td>1.000000</td>\n",
       "      <td>44.000000</td>\n",
       "      <td>1.000000</td>\n",
       "      <td>17.28000</td>\n",
       "      <td>82.000000</td>\n",
       "      <td>1.0</td>\n",
       "      <td>0.000000</td>\n",
       "      <td>0.000000</td>\n",
       "      <td>0.000000</td>\n",
       "      <td>2.000000</td>\n",
       "      <td>28.000000</td>\n",
       "      <td>11.000000</td>\n",
       "    </tr>\n",
       "    <tr>\n",
       "      <th>25%</th>\n",
       "      <td>1.000000</td>\n",
       "      <td>1.000000</td>\n",
       "      <td>44.000000</td>\n",
       "      <td>2.000000</td>\n",
       "      <td>47.90240</td>\n",
       "      <td>82.000000</td>\n",
       "      <td>1.0</td>\n",
       "      <td>0.000000</td>\n",
       "      <td>0.000000</td>\n",
       "      <td>0.000000</td>\n",
       "      <td>2.000000</td>\n",
       "      <td>30.000000</td>\n",
       "      <td>15.000000</td>\n",
       "    </tr>\n",
       "    <tr>\n",
       "      <th>50%</th>\n",
       "      <td>1.000000</td>\n",
       "      <td>2.000000</td>\n",
       "      <td>47.000000</td>\n",
       "      <td>2.000000</td>\n",
       "      <td>51.74150</td>\n",
       "      <td>86.000000</td>\n",
       "      <td>1.0</td>\n",
       "      <td>2.000000</td>\n",
       "      <td>1.000000</td>\n",
       "      <td>1.000000</td>\n",
       "      <td>3.000000</td>\n",
       "      <td>30.000000</td>\n",
       "      <td>15.000000</td>\n",
       "    </tr>\n",
       "    <tr>\n",
       "      <th>75%</th>\n",
       "      <td>3.000000</td>\n",
       "      <td>2.000000</td>\n",
       "      <td>55.000000</td>\n",
       "      <td>2.000000</td>\n",
       "      <td>58.95790</td>\n",
       "      <td>94.000000</td>\n",
       "      <td>1.0</td>\n",
       "      <td>2.000000</td>\n",
       "      <td>1.000000</td>\n",
       "      <td>1.000000</td>\n",
       "      <td>3.000000</td>\n",
       "      <td>30.000000</td>\n",
       "      <td>15.000000</td>\n",
       "    </tr>\n",
       "    <tr>\n",
       "      <th>max</th>\n",
       "      <td>3.000000</td>\n",
       "      <td>2.000000</td>\n",
       "      <td>70.000000</td>\n",
       "      <td>2.000000</td>\n",
       "      <td>73.53610</td>\n",
       "      <td>98.000000</td>\n",
       "      <td>1.0</td>\n",
       "      <td>2.000000</td>\n",
       "      <td>1.000000</td>\n",
       "      <td>1.000000</td>\n",
       "      <td>3.000000</td>\n",
       "      <td>44.000000</td>\n",
       "      <td>15.000000</td>\n",
       "    </tr>\n",
       "  </tbody>\n",
       "</table>\n",
       "</div>"
      ],
      "text/plain": [
       "       configuration   drugAmount    heartRate  lockoutInterval   riskValue  \\\n",
       "count    1961.000000  1961.000000  1961.000000      1961.000000  1961.00000   \n",
       "mean        1.527282     1.500765    49.714431         1.767466    52.10994   \n",
       "std         0.881439     0.500127     6.374378         0.422556    12.39918   \n",
       "min         1.000000     1.000000    44.000000         1.000000    17.28000   \n",
       "25%         1.000000     1.000000    44.000000         2.000000    47.90240   \n",
       "50%         1.000000     2.000000    47.000000         2.000000    51.74150   \n",
       "75%         3.000000     2.000000    55.000000         2.000000    58.95790   \n",
       "max         3.000000     2.000000    70.000000         2.000000    73.53610   \n",
       "\n",
       "              spo2  takingOtherMedications  o2Supplement        apnea  \\\n",
       "count  1961.000000                  1961.0   1961.000000  1961.000000   \n",
       "mean     88.170321                     1.0      1.001530     0.506884   \n",
       "std       6.230239                     0.0      1.000254     0.500080   \n",
       "min      82.000000                     1.0      0.000000     0.000000   \n",
       "25%      82.000000                     1.0      0.000000     0.000000   \n",
       "50%      86.000000                     1.0      2.000000     1.000000   \n",
       "75%      94.000000                     1.0      2.000000     1.000000   \n",
       "max      98.000000                     1.0      2.000000     1.000000   \n",
       "\n",
       "           riskAge       weight       etCO2  respirationRate  \n",
       "count  1961.000000  1961.000000  517.000000       517.000000  \n",
       "mean      0.739419     2.739419   30.121857        14.653772  \n",
       "std       0.439064     0.439064    1.774782         0.881578  \n",
       "min       0.000000     2.000000   28.000000        11.000000  \n",
       "25%       0.000000     2.000000   30.000000        15.000000  \n",
       "50%       1.000000     3.000000   30.000000        15.000000  \n",
       "75%       1.000000     3.000000   30.000000        15.000000  \n",
       "max       1.000000     3.000000   44.000000        15.000000  "
      ]
     },
     "execution_count": 10,
     "metadata": {},
     "output_type": "execute_result"
    }
   ],
   "source": [
    "# Viewing the data statistics\n",
    "data.describe()"
   ]
  },
  {
   "cell_type": "code",
   "execution_count": 11,
   "id": "9dd333e5",
   "metadata": {},
   "outputs": [
    {
     "data": {
      "text/plain": [
       "(13, 13)"
      ]
     },
     "execution_count": 11,
     "metadata": {},
     "output_type": "execute_result"
    }
   ],
   "source": [
    "# Finding out the correlation between the features\n",
    "corr = data.corr()\n",
    "corr.shape"
   ]
  },
  {
   "cell_type": "code",
   "execution_count": 12,
   "id": "92e43534",
   "metadata": {},
   "outputs": [
    {
     "data": {
      "text/plain": [
       "<AxesSubplot:>"
      ]
     },
     "execution_count": 12,
     "metadata": {},
     "output_type": "execute_result"
    },
    {
     "data": {
      "image/png": "[encoded data removed]",
      "text/plain": [
       "<Figure size 720x720 with 2 Axes>"
      ]
     },
     "metadata": {
      "needs_background": "light"
     },
     "output_type": "display_data"
    }
   ],
   "source": [
    "# Plotting the heatmap of correlation between features\n",
    "plt.figure(figsize=(10, 10))\n",
    "sns.heatmap(\n",
    "    corr,\n",
    "    cbar=True,\n",
    "    square=True,\n",
    "    fmt=\".1f\",\n",
    "    annot=True,\n",
    "    annot_kws={\"size\": 10},\n",
    "    cmap=\"Blues\",\n",
    ")"
   ]
  },
  {
   "cell_type": "markdown",
   "id": "3bdad47d-df51-4893-93d9-fd8b840941a9",
   "metadata": {},
   "source": [
    "### Predict Missing Values"
   ]
  },
  {
   "cell_type": "code",
   "execution_count": 13,
   "id": "04d2c9a0-8900-445a-81a0-a7ca85546b71",
   "metadata": {},
   "outputs": [],
   "source": [
    "# Convert to a pandas dataframe like in your example\n",
    "icols = ['configuration', 'drugAmount', 'lockoutInterval', \n",
    "         'riskValue', 'takingOtherMedications', 'o2Supplement', \n",
    "         'apnea', 'riskAge', 'weight']\n",
    "\n",
    "# config 1 - 3\n",
    "icols.extend(['heartRate', 'spo2'])\n",
    "jcols = ['etCO2', 'respirationRate']\n",
    "\n",
    "# config 2 - 3\n",
    "# icols.extend(['etCO2', 'respirationRate'])\n",
    "# jcols = ['heartRate', 'spo2']"
   ]
  },
  {
   "cell_type": "code",
   "execution_count": 14,
   "id": "2df74667-eecc-44c5-8757-3a6a50d464c1",
   "metadata": {},
   "outputs": [],
   "source": [
    "notnans = data[jcols].notnull().all(axis=1)\n",
    "df_notnans = data[notnans]\n",
    "\n",
    "# Split into 75% train and 25% test\n",
    "X_train, X_test, y_train, y_test = train_test_split(df_notnans[icols], df_notnans[jcols],\n",
    "                                                    train_size=0.75,\n",
    "                                                    random_state=4)"
   ]
  },
  {
   "cell_type": "code",
   "execution_count": 15,
   "id": "96ab54aa-b710-4ee1-a895-87e9ba5f2304",
   "metadata": {},
   "outputs": [
    {
     "name": "stdout",
     "output_type": "stream",
     "text": [
      "The prediction score on the test data is 83.26%\n"
     ]
    }
   ],
   "source": [
    "from sklearn.ensemble import RandomForestRegressor\n",
    "from sklearn.multioutput import MultiOutputRegressor\n",
    "from sklearn.model_selection import train_test_split\n",
    "\n",
    "regr_multirf = MultiOutputRegressor(RandomForestRegressor(max_depth=30,\n",
    "                                                          random_state=0))\n",
    "\n",
    "# Fit on the train data\n",
    "regr_multirf.fit(X_train, y_train)\n",
    "\n",
    "# Check the prediction score\n",
    "score = regr_multirf.score(X_test, y_test)\n",
    "print(\"The prediction score on the test data is {:.2f}%\".format(score*100))"
   ]
  },
  {
   "cell_type": "code",
   "execution_count": 16,
   "id": "2e6ea111-9b71-4d5d-82c0-6206685a96cb",
   "metadata": {},
   "outputs": [],
   "source": [
    "df_nans = data.loc[~notnans].copy()\n",
    "df_nans[jcols] = regr_multirf.predict(df_nans[icols])"
   ]
  },
  {
   "cell_type": "code",
   "execution_count": 17,
   "id": "c72a85f2-bf84-4c1a-a0c6-0ff1f2dea842",
   "metadata": {},
   "outputs": [
    {
     "data": {
      "text/html": [
       "<div>\n",
       "<style scoped>\n",
       "    .dataframe tbody tr th:only-of-type {\n",
       "        vertical-align: middle;\n",
       "    }\n",
       "\n",
       "    .dataframe tbody tr th {\n",
       "        vertical-align: top;\n",
       "    }\n",
       "\n",
       "    .dataframe thead th {\n",
       "        text-align: right;\n",
       "    }\n",
       "</style>\n",
       "<table border=\"1\" class=\"dataframe\">\n",
       "  <thead>\n",
       "    <tr style=\"text-align: right;\">\n",
       "      <th></th>\n",
       "      <th>configuration</th>\n",
       "      <th>drugAmount</th>\n",
       "      <th>heartRate</th>\n",
       "      <th>lockoutInterval</th>\n",
       "      <th>riskValue</th>\n",
       "      <th>spo2</th>\n",
       "      <th>takingOtherMedications</th>\n",
       "      <th>o2Supplement</th>\n",
       "      <th>apnea</th>\n",
       "      <th>riskAge</th>\n",
       "      <th>weight</th>\n",
       "      <th>etCO2</th>\n",
       "      <th>respirationRate</th>\n",
       "    </tr>\n",
       "  </thead>\n",
       "  <tbody>\n",
       "    <tr>\n",
       "      <th>0</th>\n",
       "      <td>1</td>\n",
       "      <td>1</td>\n",
       "      <td>60</td>\n",
       "      <td>2</td>\n",
       "      <td>29.0676</td>\n",
       "      <td>98</td>\n",
       "      <td>1</td>\n",
       "      <td>0</td>\n",
       "      <td>0</td>\n",
       "      <td>0</td>\n",
       "      <td>2</td>\n",
       "      <td>43.4</td>\n",
       "      <td>12.68</td>\n",
       "    </tr>\n",
       "    <tr>\n",
       "      <th>1</th>\n",
       "      <td>1</td>\n",
       "      <td>1</td>\n",
       "      <td>60</td>\n",
       "      <td>2</td>\n",
       "      <td>29.0209</td>\n",
       "      <td>98</td>\n",
       "      <td>1</td>\n",
       "      <td>0</td>\n",
       "      <td>0</td>\n",
       "      <td>0</td>\n",
       "      <td>2</td>\n",
       "      <td>43.4</td>\n",
       "      <td>12.68</td>\n",
       "    </tr>\n",
       "    <tr>\n",
       "      <th>2</th>\n",
       "      <td>1</td>\n",
       "      <td>1</td>\n",
       "      <td>60</td>\n",
       "      <td>2</td>\n",
       "      <td>28.8772</td>\n",
       "      <td>98</td>\n",
       "      <td>1</td>\n",
       "      <td>0</td>\n",
       "      <td>0</td>\n",
       "      <td>0</td>\n",
       "      <td>2</td>\n",
       "      <td>43.4</td>\n",
       "      <td>12.68</td>\n",
       "    </tr>\n",
       "    <tr>\n",
       "      <th>3</th>\n",
       "      <td>1</td>\n",
       "      <td>1</td>\n",
       "      <td>60</td>\n",
       "      <td>2</td>\n",
       "      <td>28.7705</td>\n",
       "      <td>98</td>\n",
       "      <td>1</td>\n",
       "      <td>0</td>\n",
       "      <td>0</td>\n",
       "      <td>0</td>\n",
       "      <td>2</td>\n",
       "      <td>43.4</td>\n",
       "      <td>12.68</td>\n",
       "    </tr>\n",
       "    <tr>\n",
       "      <th>4</th>\n",
       "      <td>1</td>\n",
       "      <td>1</td>\n",
       "      <td>60</td>\n",
       "      <td>2</td>\n",
       "      <td>28.8802</td>\n",
       "      <td>98</td>\n",
       "      <td>1</td>\n",
       "      <td>0</td>\n",
       "      <td>0</td>\n",
       "      <td>0</td>\n",
       "      <td>2</td>\n",
       "      <td>43.4</td>\n",
       "      <td>12.68</td>\n",
       "    </tr>\n",
       "    <tr>\n",
       "      <th>...</th>\n",
       "      <td>...</td>\n",
       "      <td>...</td>\n",
       "      <td>...</td>\n",
       "      <td>...</td>\n",
       "      <td>...</td>\n",
       "      <td>...</td>\n",
       "      <td>...</td>\n",
       "      <td>...</td>\n",
       "      <td>...</td>\n",
       "      <td>...</td>\n",
       "      <td>...</td>\n",
       "      <td>...</td>\n",
       "      <td>...</td>\n",
       "    </tr>\n",
       "    <tr>\n",
       "      <th>1789</th>\n",
       "      <td>1</td>\n",
       "      <td>2</td>\n",
       "      <td>44</td>\n",
       "      <td>2</td>\n",
       "      <td>72.9594</td>\n",
       "      <td>82</td>\n",
       "      <td>1</td>\n",
       "      <td>2</td>\n",
       "      <td>1</td>\n",
       "      <td>1</td>\n",
       "      <td>3</td>\n",
       "      <td>29.0</td>\n",
       "      <td>13.31</td>\n",
       "    </tr>\n",
       "    <tr>\n",
       "      <th>1790</th>\n",
       "      <td>1</td>\n",
       "      <td>2</td>\n",
       "      <td>44</td>\n",
       "      <td>2</td>\n",
       "      <td>72.9767</td>\n",
       "      <td>82</td>\n",
       "      <td>1</td>\n",
       "      <td>2</td>\n",
       "      <td>1</td>\n",
       "      <td>1</td>\n",
       "      <td>3</td>\n",
       "      <td>29.0</td>\n",
       "      <td>13.31</td>\n",
       "    </tr>\n",
       "    <tr>\n",
       "      <th>1791</th>\n",
       "      <td>1</td>\n",
       "      <td>2</td>\n",
       "      <td>44</td>\n",
       "      <td>2</td>\n",
       "      <td>72.7671</td>\n",
       "      <td>82</td>\n",
       "      <td>1</td>\n",
       "      <td>2</td>\n",
       "      <td>1</td>\n",
       "      <td>1</td>\n",
       "      <td>3</td>\n",
       "      <td>29.0</td>\n",
       "      <td>13.31</td>\n",
       "    </tr>\n",
       "    <tr>\n",
       "      <th>1792</th>\n",
       "      <td>1</td>\n",
       "      <td>2</td>\n",
       "      <td>44</td>\n",
       "      <td>2</td>\n",
       "      <td>72.9346</td>\n",
       "      <td>82</td>\n",
       "      <td>1</td>\n",
       "      <td>2</td>\n",
       "      <td>1</td>\n",
       "      <td>1</td>\n",
       "      <td>3</td>\n",
       "      <td>29.0</td>\n",
       "      <td>13.31</td>\n",
       "    </tr>\n",
       "    <tr>\n",
       "      <th>1793</th>\n",
       "      <td>1</td>\n",
       "      <td>2</td>\n",
       "      <td>44</td>\n",
       "      <td>2</td>\n",
       "      <td>72.9662</td>\n",
       "      <td>82</td>\n",
       "      <td>1</td>\n",
       "      <td>2</td>\n",
       "      <td>1</td>\n",
       "      <td>1</td>\n",
       "      <td>3</td>\n",
       "      <td>29.0</td>\n",
       "      <td>13.31</td>\n",
       "    </tr>\n",
       "  </tbody>\n",
       "</table>\n",
       "<p>1444 rows × 13 columns</p>\n",
       "</div>"
      ],
      "text/plain": [
       "      configuration  drugAmount  heartRate  lockoutInterval  riskValue  spo2  \\\n",
       "0                 1           1         60                2    29.0676    98   \n",
       "1                 1           1         60                2    29.0209    98   \n",
       "2                 1           1         60                2    28.8772    98   \n",
       "3                 1           1         60                2    28.7705    98   \n",
       "4                 1           1         60                2    28.8802    98   \n",
       "...             ...         ...        ...              ...        ...   ...   \n",
       "1789              1           2         44                2    72.9594    82   \n",
       "1790              1           2         44                2    72.9767    82   \n",
       "1791              1           2         44                2    72.7671    82   \n",
       "1792              1           2         44                2    72.9346    82   \n",
       "1793              1           2         44                2    72.9662    82   \n",
       "\n",
       "      takingOtherMedications  o2Supplement  apnea  riskAge  weight  etCO2  \\\n",
       "0                          1             0      0        0       2   43.4   \n",
       "1                          1             0      0        0       2   43.4   \n",
       "2                          1             0      0        0       2   43.4   \n",
       "3                          1             0      0        0       2   43.4   \n",
       "4                          1             0      0        0       2   43.4   \n",
       "...                      ...           ...    ...      ...     ...    ...   \n",
       "1789                       1             2      1        1       3   29.0   \n",
       "1790                       1             2      1        1       3   29.0   \n",
       "1791                       1             2      1        1       3   29.0   \n",
       "1792                       1             2      1        1       3   29.0   \n",
       "1793                       1             2      1        1       3   29.0   \n",
       "\n",
       "      respirationRate  \n",
       "0               12.68  \n",
       "1               12.68  \n",
       "2               12.68  \n",
       "3               12.68  \n",
       "4               12.68  \n",
       "...               ...  \n",
       "1789            13.31  \n",
       "1790            13.31  \n",
       "1791            13.31  \n",
       "1792            13.31  \n",
       "1793            13.31  \n",
       "\n",
       "[1444 rows x 13 columns]"
      ]
     },
     "execution_count": 17,
     "metadata": {},
     "output_type": "execute_result"
    }
   ],
   "source": [
    "df_nans"
   ]
  },
  {
   "cell_type": "code",
   "execution_count": 18,
   "id": "fce5449b-0740-4b9f-9f69-f5c278adef18",
   "metadata": {},
   "outputs": [],
   "source": [
    "data = df_nans"
   ]
  },
  {
   "cell_type": "code",
   "execution_count": 19,
   "id": "7cd85fd3-c7ae-486f-9805-f7f0ce553fb8",
   "metadata": {},
   "outputs": [
    {
     "name": "stdout",
     "output_type": "stream",
     "text": [
      "(1444, 13)\n",
      "(1444, 13)\n"
     ]
    }
   ],
   "source": [
    "print(data.shape)\n",
    "data = data.dropna()\n",
    "print(data.shape)"
   ]
  },
  {
   "cell_type": "markdown",
   "id": "5eed9331-a64f-48e9-955d-652510396dbd",
   "metadata": {},
   "source": [
    "## Spliting data"
   ]
  },
  {
   "cell_type": "code",
   "execution_count": 20,
   "id": "7c286273",
   "metadata": {},
   "outputs": [],
   "source": [
    "# Spliting target variable and independent variables\n",
    "X = data.drop([\"riskValue\"], axis=1)\n",
    "y = data[\"riskValue\"]\n",
    "\n",
    "X_train, X_test, y_train, y_test = train_test_split(X, y, test_size=0.75, random_state=4)"
   ]
  },
  {
   "cell_type": "markdown",
   "id": "6fb4df76",
   "metadata": {},
   "source": [
    "# Linear regression"
   ]
  },
  {
   "cell_type": "markdown",
   "id": "a3cfe935",
   "metadata": {},
   "source": [
    "#### Training the model"
   ]
  },
  {
   "cell_type": "code",
   "execution_count": 21,
   "id": "ae13c3f9",
   "metadata": {},
   "outputs": [
    {
     "data": {
      "text/plain": [
       "LinearRegression()"
      ]
     },
     "execution_count": 21,
     "metadata": {},
     "output_type": "execute_result"
    }
   ],
   "source": [
    "from sklearn.linear_model import LinearRegression\n",
    "\n",
    "# Create a Linear regressor\n",
    "lm = LinearRegression()\n",
    "\n",
    "# Train the model using the training sets\n",
    "lm.fit(X_train, y_train)"
   ]
  },
  {
   "cell_type": "code",
   "execution_count": 22,
   "id": "89e0c4b0",
   "metadata": {},
   "outputs": [
    {
     "data": {
      "text/plain": [
       "353.3917255149132"
      ]
     },
     "execution_count": 22,
     "metadata": {},
     "output_type": "execute_result"
    }
   ],
   "source": [
    "# Value of y intercept\n",
    "lm.intercept_"
   ]
  },
  {
   "cell_type": "code",
   "execution_count": 23,
   "id": "80458dce",
   "metadata": {},
   "outputs": [
    {
     "data": {
      "text/html": [
       "<div>\n",
       "<style scoped>\n",
       "    .dataframe tbody tr th:only-of-type {\n",
       "        vertical-align: middle;\n",
       "    }\n",
       "\n",
       "    .dataframe tbody tr th {\n",
       "        vertical-align: top;\n",
       "    }\n",
       "\n",
       "    .dataframe thead th {\n",
       "        text-align: right;\n",
       "    }\n",
       "</style>\n",
       "<table border=\"1\" class=\"dataframe\">\n",
       "  <thead>\n",
       "    <tr style=\"text-align: right;\">\n",
       "      <th></th>\n",
       "      <th>Attribute</th>\n",
       "      <th>Coefficients</th>\n",
       "    </tr>\n",
       "  </thead>\n",
       "  <tbody>\n",
       "    <tr>\n",
       "      <th>0</th>\n",
       "      <td>configuration</td>\n",
       "      <td>0</td>\n",
       "    </tr>\n",
       "    <tr>\n",
       "      <th>1</th>\n",
       "      <td>drugAmount</td>\n",
       "      <td>1.98397</td>\n",
       "    </tr>\n",
       "    <tr>\n",
       "      <th>2</th>\n",
       "      <td>heartRate</td>\n",
       "      <td>3.89576</td>\n",
       "    </tr>\n",
       "    <tr>\n",
       "      <th>3</th>\n",
       "      <td>lockoutInterval</td>\n",
       "      <td>-0.379371</td>\n",
       "    </tr>\n",
       "    <tr>\n",
       "      <th>4</th>\n",
       "      <td>spo2</td>\n",
       "      <td>-5.80235</td>\n",
       "    </tr>\n",
       "    <tr>\n",
       "      <th>5</th>\n",
       "      <td>takingOtherMedications</td>\n",
       "      <td>4.44089e-16</td>\n",
       "    </tr>\n",
       "    <tr>\n",
       "      <th>6</th>\n",
       "      <td>o2Supplement</td>\n",
       "      <td>3.96795</td>\n",
       "    </tr>\n",
       "    <tr>\n",
       "      <th>7</th>\n",
       "      <td>apnea</td>\n",
       "      <td>-0.0438951</td>\n",
       "    </tr>\n",
       "    <tr>\n",
       "      <th>8</th>\n",
       "      <td>riskAge</td>\n",
       "      <td>0.335476</td>\n",
       "    </tr>\n",
       "    <tr>\n",
       "      <th>9</th>\n",
       "      <td>weight</td>\n",
       "      <td>0.335476</td>\n",
       "    </tr>\n",
       "    <tr>\n",
       "      <th>10</th>\n",
       "      <td>etCO2</td>\n",
       "      <td>-0.27024</td>\n",
       "    </tr>\n",
       "    <tr>\n",
       "      <th>11</th>\n",
       "      <td>respirationRate</td>\n",
       "      <td>1.65587</td>\n",
       "    </tr>\n",
       "  </tbody>\n",
       "</table>\n",
       "</div>"
      ],
      "text/plain": [
       "                 Attribute Coefficients\n",
       "0            configuration            0\n",
       "1               drugAmount      1.98397\n",
       "2                heartRate      3.89576\n",
       "3          lockoutInterval    -0.379371\n",
       "4                     spo2     -5.80235\n",
       "5   takingOtherMedications  4.44089e-16\n",
       "6             o2Supplement      3.96795\n",
       "7                    apnea   -0.0438951\n",
       "8                  riskAge     0.335476\n",
       "9                   weight     0.335476\n",
       "10                   etCO2     -0.27024\n",
       "11         respirationRate      1.65587"
      ]
     },
     "execution_count": 23,
     "metadata": {},
     "output_type": "execute_result"
    }
   ],
   "source": [
    "# Converting the coefficient values to a dataframe\n",
    "coeffcients = pd.DataFrame([X_train.columns, lm.coef_]).T\n",
    "coeffcients = coeffcients.rename(columns={0: \"Attribute\", 1: \"Coefficients\"})\n",
    "coeffcients"
   ]
  },
  {
   "cell_type": "code",
   "execution_count": 24,
   "id": "777b41cc",
   "metadata": {},
   "outputs": [],
   "source": [
    "# Model prediction on train data\n",
    "y_pred = lm.predict(X_train)"
   ]
  },
  {
   "cell_type": "code",
   "execution_count": 25,
   "id": "b8e7cf16",
   "metadata": {},
   "outputs": [
    {
     "name": "stdout",
     "output_type": "stream",
     "text": [
      "R^2: 0.9414723181936758\n",
      "Adjusted R^2: 0.9394541222693198\n",
      "MAE: 2.845550864094082\n",
      "MSE: 11.604308277526748\n",
      "RMSE: 3.4065096913889366\n"
     ]
    }
   ],
   "source": [
    "# Model Evaluation\n",
    "print(\"R^2:\", metrics.r2_score(y_train, y_pred))\n",
    "print(\n",
    "    \"Adjusted R^2:\",\n",
    "    1\n",
    "    - (1 - metrics.r2_score(y_train, y_pred))\n",
    "    * (len(y_train) - 1)\n",
    "    / (len(y_train) - X_train.shape[1] - 1),\n",
    ")\n",
    "print(\"MAE:\", metrics.mean_absolute_error(y_train, y_pred))\n",
    "print(\"MSE:\", metrics.mean_squared_error(y_train, y_pred))\n",
    "print(\"RMSE:\", np.sqrt(metrics.mean_squared_error(y_train, y_pred)))"
   ]
  },
  {
   "cell_type": "code",
   "execution_count": 26,
   "id": "d9c2572b",
   "metadata": {},
   "outputs": [
    {
     "data": {
      "image/png": "[encoded data removed]",
      "text/plain": [
       "<Figure size 432x288 with 1 Axes>"
      ]
     },
     "metadata": {
      "needs_background": "light"
     },
     "output_type": "display_data"
    }
   ],
   "source": [
    "plt.scatter(y_train, y_pred)\n",
    "plt.xlabel(\"Risk Value\")\n",
    "plt.ylabel(\"Predicted risk\")\n",
    "plt.title(\"Risk vs Predicted Risk\")\n",
    "plt.show()"
   ]
  },
  {
   "cell_type": "code",
   "execution_count": 27,
   "id": "69598b2c",
   "metadata": {},
   "outputs": [
    {
     "data": {
      "image/png": "[encoded data removed]",
      "text/plain": [
       "<Figure size 432x288 with 1 Axes>"
      ]
     },
     "metadata": {
      "needs_background": "light"
     },
     "output_type": "display_data"
    }
   ],
   "source": [
    "# Checking residuals\n",
    "plt.scatter(y_pred, y_train - y_pred)\n",
    "plt.title(\"Predicted vs residuals\")\n",
    "plt.xlabel(\"Predicted\")\n",
    "plt.ylabel(\"Residuals\")\n",
    "plt.show()"
   ]
  },
  {
   "cell_type": "code",
   "execution_count": 28,
   "id": "53990e43-407a-4a2e-9b1c-e7b303a84667",
   "metadata": {},
   "outputs": [
    {
     "name": "stdout",
     "output_type": "stream",
     "text": [
      "R^2: 0.9412091849748202\n",
      "Adjusted R^2: 0.9405498487315471\n",
      "MAE: 2.804061316710658\n",
      "MSE: 11.57778599165503\n",
      "RMSE: 3.402614581708459\n"
     ]
    }
   ],
   "source": [
    "# Predicting Test data with the model\n",
    "y_test_pred = lm.predict(X_test)\n",
    "acc_lr = metrics.r2_score(y_test, y_test_pred)\n",
    "\n",
    "print(\"R^2:\", acc_lr)\n",
    "print(\n",
    "    \"Adjusted R^2:\",\n",
    "    1\n",
    "    - (1 - metrics.r2_score(y_test, y_test_pred))\n",
    "    * (len(y_test) - 1)\n",
    "    / (len(y_test) - X_test.shape[1] - 1),\n",
    ")\n",
    "print(\"MAE:\", metrics.mean_absolute_error(y_test, y_test_pred))\n",
    "print(\"MSE:\", metrics.mean_squared_error(y_test, y_test_pred))\n",
    "print(\"RMSE:\", np.sqrt(metrics.mean_squared_error(y_test, y_test_pred)))"
   ]
  },
  {
   "cell_type": "code",
   "execution_count": 29,
   "id": "ef2819d1-9f89-4d87-9887-f1580391b24f",
   "metadata": {},
   "outputs": [
    {
     "name": "stdout",
     "output_type": "stream",
     "text": [
      "Prediction \tValue\n",
      "65.741          69.061\n",
      "29.671          29.257\n",
      "68.372          69.241\n",
      "42.075          48.179\n",
      "54.210          50.447\n",
      "54.039          58.740\n",
      "41.127          34.794\n",
      "76.081          73.127\n",
      "46.606          48.812\n",
      "54.039          59.280\n",
      "57.195          54.600\n",
      "38.570          32.988\n",
      "75.658          73.159\n",
      "30.000          29.151\n",
      "46.606          48.943\n",
      "42.710          48.716\n",
      "46.081          48.254\n",
      "48.446          50.102\n",
      "60.240          64.057\n",
      "76.081          73.222\n"
     ]
    }
   ],
   "source": [
    "y_list = y_test.to_list()\n",
    "\n",
    "print('Prediction \\tValue')\n",
    "for i in range(20):\n",
    "    print(\"{:.3f}\".format(y_test_pred[i]), \"{:15.3f}\".format(y_list[i]))"
   ]
  },
  {
   "cell_type": "markdown",
   "id": "9291f67b",
   "metadata": {},
   "source": [
    "# SVM Regressor\n"
   ]
  },
  {
   "cell_type": "code",
   "execution_count": 30,
   "id": "c0e55973",
   "metadata": {},
   "outputs": [],
   "source": [
    "# Creating scaled set to be used in model to improve our results\n",
    "from sklearn.preprocessing import StandardScaler\n",
    "\n",
    "sc = StandardScaler()\n",
    "X_train = sc.fit_transform(X_train)\n",
    "X_test = sc.transform(X_test)"
   ]
  },
  {
   "cell_type": "markdown",
   "id": "2388adac",
   "metadata": {},
   "source": [
    "#### Train the model"
   ]
  },
  {
   "cell_type": "code",
   "execution_count": 31,
   "id": "16e6a54a",
   "metadata": {},
   "outputs": [],
   "source": [
    "# Import SVM Regressor\n",
    "from sklearn import svm\n",
    "\n",
    "# Create a SVM Regressor\n",
    "reg = svm.SVR()"
   ]
  },
  {
   "cell_type": "code",
   "execution_count": 32,
   "id": "5d64d1f6",
   "metadata": {},
   "outputs": [
    {
     "data": {
      "text/plain": [
       "SVR()"
      ]
     },
     "execution_count": 32,
     "metadata": {},
     "output_type": "execute_result"
    }
   ],
   "source": [
    "# Train the model using the training sets\n",
    "reg.fit(X_train, y_train)"
   ]
  },
  {
   "cell_type": "markdown",
   "id": "eeec91a6",
   "metadata": {},
   "source": [
    "#### Model Evaluation"
   ]
  },
  {
   "cell_type": "code",
   "execution_count": 33,
   "id": "16482979",
   "metadata": {},
   "outputs": [],
   "source": [
    "# Model prediction on train data\n",
    "y_pred = reg.predict(X_train)"
   ]
  },
  {
   "cell_type": "code",
   "execution_count": 34,
   "id": "a060b086",
   "metadata": {},
   "outputs": [
    {
     "name": "stdout",
     "output_type": "stream",
     "text": [
      "R^2: 0.9683497587003977\n",
      "Adjusted R^2: 0.967258371069377\n",
      "MAE: 1.5886583440884625\n",
      "MSE: 6.2753067567936265\n",
      "RMSE: 2.505056238249678\n"
     ]
    }
   ],
   "source": [
    "# Model Evaluation\n",
    "print(\"R^2:\", metrics.r2_score(y_train, y_pred))\n",
    "print(\n",
    "    \"Adjusted R^2:\",\n",
    "    1\n",
    "    - (1 - metrics.r2_score(y_train, y_pred))\n",
    "    * (len(y_train) - 1)\n",
    "    / (len(y_train) - X_train.shape[1] - 1),\n",
    ")\n",
    "print(\"MAE:\", metrics.mean_absolute_error(y_train, y_pred))\n",
    "print(\"MSE:\", metrics.mean_squared_error(y_train, y_pred))\n",
    "print(\"RMSE:\", np.sqrt(metrics.mean_squared_error(y_train, y_pred)))"
   ]
  },
  {
   "cell_type": "code",
   "execution_count": 35,
   "id": "adfe73a5",
   "metadata": {},
   "outputs": [
    {
     "data": {
      "image/png": "[encoded data removed]",
      "text/plain": [
       "<Figure size 432x288 with 1 Axes>"
      ]
     },
     "metadata": {
      "needs_background": "light"
     },
     "output_type": "display_data"
    }
   ],
   "source": [
    "plt.scatter(y_train, y_pred)\n",
    "plt.xlabel(\"Risk\")\n",
    "plt.ylabel(\"Predicted risk\")\n",
    "plt.title(\"Risk vs Predicted risk\")\n",
    "plt.show()"
   ]
  },
  {
   "cell_type": "code",
   "execution_count": 36,
   "id": "0bde3494",
   "metadata": {},
   "outputs": [
    {
     "data": {
      "image/png": "[encoded data removed]",
      "text/plain": [
       "<Figure size 432x288 with 1 Axes>"
      ]
     },
     "metadata": {
      "needs_background": "light"
     },
     "output_type": "display_data"
    }
   ],
   "source": [
    "# Checking residuals\n",
    "plt.scatter(y_pred, y_train - y_pred)\n",
    "plt.title(\"Predicted vs residuals\")\n",
    "plt.xlabel(\"Predicted\")\n",
    "plt.ylabel(\"Residuals\")\n",
    "plt.show()"
   ]
  },
  {
   "cell_type": "markdown",
   "id": "1b7afefb",
   "metadata": {},
   "source": [
    "#### For test data"
   ]
  },
  {
   "cell_type": "code",
   "execution_count": 37,
   "id": "3ab297ca",
   "metadata": {},
   "outputs": [],
   "source": [
    "# Predicting Test data with the model\n",
    "y_test_pred = reg.predict(X_test)"
   ]
  },
  {
   "cell_type": "code",
   "execution_count": 38,
   "id": "b885f58d",
   "metadata": {},
   "outputs": [
    {
     "name": "stdout",
     "output_type": "stream",
     "text": [
      "R^2: 0.9638595267610484\n",
      "Adjusted R^2: 0.9634542130424807\n",
      "MAE: 1.67495727189569\n",
      "MSE: 7.117211500104356\n",
      "RMSE: 2.667810244396021\n"
     ]
    }
   ],
   "source": [
    "# Model Evaluation\n",
    "acc_svm = metrics.r2_score(y_test, y_test_pred)\n",
    "print(\"R^2:\", acc_svm)\n",
    "print(\n",
    "    \"Adjusted R^2:\",\n",
    "    1\n",
    "    - (1 - metrics.r2_score(y_test, y_test_pred))\n",
    "    * (len(y_test) - 1)\n",
    "    / (len(y_test) - X_test.shape[1] - 1),\n",
    ")\n",
    "print(\"MAE:\", metrics.mean_absolute_error(y_test, y_test_pred))\n",
    "print(\"MSE:\", metrics.mean_squared_error(y_test, y_test_pred))\n",
    "print(\"RMSE:\", np.sqrt(metrics.mean_squared_error(y_test, y_test_pred)))"
   ]
  },
  {
   "cell_type": "code",
   "execution_count": 39,
   "id": "2d029722",
   "metadata": {},
   "outputs": [
    {
     "name": "stdout",
     "output_type": "stream",
     "text": [
      "Prediction \tActual\n",
      "\n",
      "66.519          69.061\n",
      "29.113          29.257\n",
      "66.956          69.241\n",
      "48.614          48.179\n",
      "50.419          50.447\n",
      "55.027          58.740\n",
      "37.851          34.794\n",
      "68.732          73.127\n",
      "48.833          48.812\n",
      "55.027          59.280\n",
      "54.886          54.600\n",
      "34.731          32.988\n",
      "69.966          73.159\n",
      "28.993          29.151\n",
      "48.833          48.943\n",
      "48.854          48.716\n",
      "48.184          48.254\n",
      "49.932          50.102\n",
      "64.666          64.057\n",
      "68.732          73.222\n"
     ]
    }
   ],
   "source": [
    "y_list = y_test.to_list()\n",
    "\n",
    "print(\"Prediction \\tActual\\n\")\n",
    "for i in range(20):\n",
    "    print(\"{:.3f}\".format(y_test_pred[i]), \"{:15.3f}\".format(y_list[i]))"
   ]
  },
  {
   "cell_type": "markdown",
   "id": "b72c387a-8319-4054-9c06-4afc50eccbab",
   "metadata": {},
   "source": [
    "# Gaussian Naive Bayes"
   ]
  },
  {
   "cell_type": "code",
   "execution_count": 40,
   "id": "c6c873d6-a00b-4d09-b3f8-b90b3eebf9c1",
   "metadata": {
    "tags": []
   },
   "outputs": [],
   "source": [
    "mongo_dbs = [dr.read_data(mongodb_URI, db) for db in dbs]\n",
    "mongo_data = []\n",
    "\n",
    "for d in mongo_dbs:\n",
    "    mongo_data.append([sn.sanitize_naive_bayes(a) for a in d])\n",
    "\n",
    "measurements = [item for sublist in mongo_data for item in sublist]\n",
    "    \n",
    "data = pd.DataFrame(measurements)"
   ]
  },
  {
   "cell_type": "code",
   "execution_count": 41,
   "id": "9aee594b-db04-42d3-a86b-eb207952e8e0",
   "metadata": {},
   "outputs": [],
   "source": [
    "# del data['configuration']\n",
    "del data['mvpNode']\n",
    "# del data['classification']\n",
    "del data['riskValue']"
   ]
  },
  {
   "cell_type": "code",
   "execution_count": 42,
   "id": "e2e8e002-888a-4e62-b689-158bda4af124",
   "metadata": {},
   "outputs": [
    {
     "data": {
      "text/html": [
       "<div>\n",
       "<style scoped>\n",
       "    .dataframe tbody tr th:only-of-type {\n",
       "        vertical-align: middle;\n",
       "    }\n",
       "\n",
       "    .dataframe tbody tr th {\n",
       "        vertical-align: top;\n",
       "    }\n",
       "\n",
       "    .dataframe thead th {\n",
       "        text-align: right;\n",
       "    }\n",
       "</style>\n",
       "<table border=\"1\" class=\"dataframe\">\n",
       "  <thead>\n",
       "    <tr style=\"text-align: right;\">\n",
       "      <th></th>\n",
       "      <th>classification</th>\n",
       "      <th>configuration</th>\n",
       "      <th>drugAmount</th>\n",
       "      <th>etCO2</th>\n",
       "      <th>heartRate</th>\n",
       "      <th>lockoutInterval</th>\n",
       "      <th>respirationRate</th>\n",
       "      <th>spo2</th>\n",
       "      <th>takingOtherMedications</th>\n",
       "      <th>o2Supplement</th>\n",
       "      <th>apnea</th>\n",
       "      <th>riskAge</th>\n",
       "      <th>weight</th>\n",
       "    </tr>\n",
       "  </thead>\n",
       "  <tbody>\n",
       "    <tr>\n",
       "      <th>0</th>\n",
       "      <td>Minor</td>\n",
       "      <td>cfg_1</td>\n",
       "      <td>Low</td>\n",
       "      <td>no_data</td>\n",
       "      <td>Negligible</td>\n",
       "      <td>Medium</td>\n",
       "      <td>no_data</td>\n",
       "      <td>Negligible</td>\n",
       "      <td>yes</td>\n",
       "      <td>None</td>\n",
       "      <td>no</td>\n",
       "      <td>no</td>\n",
       "      <td>Normal</td>\n",
       "    </tr>\n",
       "    <tr>\n",
       "      <th>1</th>\n",
       "      <td>Minor</td>\n",
       "      <td>cfg_1</td>\n",
       "      <td>Low</td>\n",
       "      <td>no_data</td>\n",
       "      <td>Negligible</td>\n",
       "      <td>Medium</td>\n",
       "      <td>no_data</td>\n",
       "      <td>Negligible</td>\n",
       "      <td>yes</td>\n",
       "      <td>None</td>\n",
       "      <td>no</td>\n",
       "      <td>no</td>\n",
       "      <td>Normal</td>\n",
       "    </tr>\n",
       "    <tr>\n",
       "      <th>2</th>\n",
       "      <td>Minor</td>\n",
       "      <td>cfg_1</td>\n",
       "      <td>Low</td>\n",
       "      <td>no_data</td>\n",
       "      <td>Negligible</td>\n",
       "      <td>Medium</td>\n",
       "      <td>no_data</td>\n",
       "      <td>Negligible</td>\n",
       "      <td>yes</td>\n",
       "      <td>None</td>\n",
       "      <td>no</td>\n",
       "      <td>no</td>\n",
       "      <td>Normal</td>\n",
       "    </tr>\n",
       "    <tr>\n",
       "      <th>3</th>\n",
       "      <td>Minor</td>\n",
       "      <td>cfg_1</td>\n",
       "      <td>Low</td>\n",
       "      <td>no_data</td>\n",
       "      <td>Negligible</td>\n",
       "      <td>Medium</td>\n",
       "      <td>no_data</td>\n",
       "      <td>Negligible</td>\n",
       "      <td>yes</td>\n",
       "      <td>None</td>\n",
       "      <td>no</td>\n",
       "      <td>no</td>\n",
       "      <td>Normal</td>\n",
       "    </tr>\n",
       "    <tr>\n",
       "      <th>4</th>\n",
       "      <td>Minor</td>\n",
       "      <td>cfg_1</td>\n",
       "      <td>Low</td>\n",
       "      <td>no_data</td>\n",
       "      <td>Negligible</td>\n",
       "      <td>Medium</td>\n",
       "      <td>no_data</td>\n",
       "      <td>Negligible</td>\n",
       "      <td>yes</td>\n",
       "      <td>None</td>\n",
       "      <td>no</td>\n",
       "      <td>no</td>\n",
       "      <td>Normal</td>\n",
       "    </tr>\n",
       "  </tbody>\n",
       "</table>\n",
       "</div>"
      ],
      "text/plain": [
       "  classification configuration drugAmount    etCO2   heartRate  \\\n",
       "0          Minor         cfg_1        Low  no_data  Negligible   \n",
       "1          Minor         cfg_1        Low  no_data  Negligible   \n",
       "2          Minor         cfg_1        Low  no_data  Negligible   \n",
       "3          Minor         cfg_1        Low  no_data  Negligible   \n",
       "4          Minor         cfg_1        Low  no_data  Negligible   \n",
       "\n",
       "  lockoutInterval respirationRate        spo2 takingOtherMedications  \\\n",
       "0          Medium         no_data  Negligible                    yes   \n",
       "1          Medium         no_data  Negligible                    yes   \n",
       "2          Medium         no_data  Negligible                    yes   \n",
       "3          Medium         no_data  Negligible                    yes   \n",
       "4          Medium         no_data  Negligible                    yes   \n",
       "\n",
       "  o2Supplement apnea riskAge  weight  \n",
       "0         None    no      no  Normal  \n",
       "1         None    no      no  Normal  \n",
       "2         None    no      no  Normal  \n",
       "3         None    no      no  Normal  \n",
       "4         None    no      no  Normal  "
      ]
     },
     "execution_count": 42,
     "metadata": {},
     "output_type": "execute_result"
    }
   ],
   "source": [
    "data.head()"
   ]
  },
  {
   "cell_type": "code",
   "execution_count": 43,
   "id": "7fcf76d0-0766-456a-8a97-5b44e610939a",
   "metadata": {},
   "outputs": [],
   "source": [
    "X = data.drop([\"classification\"], axis=1)\n",
    "y = data[\"classification\"]"
   ]
  },
  {
   "cell_type": "code",
   "execution_count": 44,
   "id": "afdfd639-c8ef-41b6-b3d0-eb806ef644bc",
   "metadata": {},
   "outputs": [],
   "source": [
    "from sklearn.preprocessing import LabelEncoder"
   ]
  },
  {
   "cell_type": "code",
   "execution_count": 45,
   "id": "6f0c2023-2b33-4fa0-b713-176546c12d10",
   "metadata": {},
   "outputs": [],
   "source": [
    "#cfg 1\n",
    "X['heartRate'] = LabelEncoder().fit_transform(X['heartRate'])\n",
    "X['spo2'] = LabelEncoder().fit_transform(X['spo2'])\n",
    "\n",
    "#cfg 2\n",
    "X['etCO2'] = LabelEncoder().fit_transform(X['etCO2'])\n",
    "X['respirationRate'] = LabelEncoder().fit_transform(X['respirationRate'])\n",
    "\n",
    "X['configuration'] = LabelEncoder().fit_transform(X['configuration'])\n",
    "X['drugAmount'] = LabelEncoder().fit_transform(X['drugAmount'])\n",
    "X['lockoutInterval'] = LabelEncoder().fit_transform(X['lockoutInterval'])\n",
    "X['takingOtherMedications'] = LabelEncoder().fit_transform(X['takingOtherMedications'])\n",
    "X['o2Supplement'] = LabelEncoder().fit_transform(X['o2Supplement'])\n",
    "X['apnea'] = LabelEncoder().fit_transform(X['apnea'])\n",
    "X['riskAge'] = LabelEncoder().fit_transform(X['riskAge'])\n",
    "X['weight'] = LabelEncoder().fit_transform(X['weight'])"
   ]
  },
  {
   "cell_type": "code",
   "execution_count": 46,
   "id": "d3834515-d6d6-47b2-a22d-970dfb9ac5d7",
   "metadata": {},
   "outputs": [],
   "source": [
    "from sklearn.naive_bayes import GaussianNB"
   ]
  },
  {
   "cell_type": "code",
   "execution_count": 47,
   "id": "72f5b04c-0ef6-4ff3-b780-93a6347a93fe",
   "metadata": {},
   "outputs": [
    {
     "data": {
      "text/plain": [
       "GaussianNB()"
      ]
     },
     "execution_count": 47,
     "metadata": {},
     "output_type": "execute_result"
    }
   ],
   "source": [
    "X_train, X_test, y_train, y_test = train_test_split(X, y, test_size=0.75)\n",
    "\n",
    "nb = GaussianNB()\n",
    "nb.fit(X_train, y_train)"
   ]
  },
  {
   "cell_type": "code",
   "execution_count": 48,
   "id": "c6a3ae40-168d-42c5-9005-9a9f3457ea6f",
   "metadata": {},
   "outputs": [
    {
     "name": "stdout",
     "output_type": "stream",
     "text": [
      "R^2: 0.4282800815771584\n"
     ]
    }
   ],
   "source": [
    "# Predicting Test data with the model\n",
    "y_test_pred = nb.predict(X_test)\n",
    "\n",
    "# Model Evaluation\n",
    "acc_nb = metrics.accuracy_score(y_test, y_test_pred)\n",
    "print(\"R^2:\", acc_nb)"
   ]
  },
  {
   "cell_type": "code",
   "execution_count": 49,
   "id": "56c8b754-4403-4619-9b6e-3aea1553299b",
   "metadata": {},
   "outputs": [
    {
     "name": "stdout",
     "output_type": "stream",
     "text": [
      "Prediction \tActual\n",
      "\n",
      "Serious         Serious\n",
      "Critical        Serious\n",
      "Critical        Critical\n",
      "Serious         Serious\n",
      "Critical        Serious\n",
      "Critical        Serious\n",
      "Serious         Serious\n",
      "Critical        Serious\n",
      "Critical        Serious\n",
      "Critical        Critical\n",
      "Serious         Serious\n",
      "Critical        Serious\n",
      "Critical        Serious\n",
      "Critical        Minor\n",
      "Critical        Serious\n",
      "Serious         Serious\n",
      "Critical        Minor\n",
      "Serious         Serious\n",
      "Critical        Serious\n",
      "Critical        Serious\n"
     ]
    }
   ],
   "source": [
    "y_list = y_test.to_list()\n",
    "\n",
    "print(\"Prediction \\tActual\\n\")\n",
    "for i in range(20):\n",
    "    print(\"{:15}\".format(y_test_pred[i]), \"{0}\".format(y_list[i]))"
   ]
  },
  {
   "cell_type": "code",
   "execution_count": null,
   "id": "5e79a0de-6c89-4b6c-a9df-344ca15c87dc",
   "metadata": {},
   "outputs": [],
   "source": []
  }
 ],
 "metadata": {
  "kernelspec": {
   "display_name": "monitor",
   "language": "python",
   "name": "monitor"
  },
  "language_info": {
   "codemirror_mode": {
    "name": "ipython",
    "version": 3
   },
   "file_extension": ".py",
   "mimetype": "text/x-python",
   "name": "python",
   "nbconvert_exporter": "python",
   "pygments_lexer": "ipython3",
   "version": "3.6.13"
  }
 },
 "nbformat": 4,
 "nbformat_minor": 5
}
