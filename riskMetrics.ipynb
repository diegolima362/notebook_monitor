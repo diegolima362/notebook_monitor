{
 "cells": [
  {
   "cell_type": "code",
   "execution_count": 1,
   "metadata": {},
   "outputs": [
    {
     "name": "stdout",
     "output_type": "stream",
     "text": [
      "Python version\n",
      "3.6.13 |Anaconda, Inc.| (default, Mar 16 2021, 11:37:27) [MSC v.1916 64 bit (AMD64)]\n",
      "Version info.\n",
      "sys.version_info(major=3, minor=6, micro=13, releaselevel='final', serial=0)\n"
     ]
    }
   ],
   "source": [
    "import sys\n",
    "print(\"Python version\")\n",
    "print (sys.version)\n",
    "print(\"Version info.\")\n",
    "print (sys.version_info)"
   ]
  },
  {
   "cell_type": "code",
   "execution_count": 2,
   "metadata": {},
   "outputs": [],
   "source": [
    "import sanitizer as sn\n",
    "import data_reader as dr"
   ]
  },
  {
   "cell_type": "code",
   "execution_count": 3,
   "metadata": {},
   "outputs": [],
   "source": [
    "import matplotlib.pyplot as plt\n",
    "import numpy as np\n",
    "import pandas as pd\n",
    "import seaborn as sns\n",
    "from sklearn import linear_model, metrics\n",
    "\n",
    "%matplotlib inline"
   ]
  },
  {
   "cell_type": "code",
   "execution_count": 4,
   "metadata": {},
   "outputs": [],
   "source": [
    "import pprint\n",
    "\n",
    "pp = pprint.PrettyPrinter()"
   ]
  },
  {
   "cell_type": "code",
   "execution_count": 5,
   "metadata": {},
   "outputs": [],
   "source": [
    "# mongodb connection details\n",
    "mongodb_URI = \"mongodb://localhost:27017\"\n",
    "database_name = \"riskMetrics22420210423\""
   ]
  },
  {
   "cell_type": "code",
   "execution_count": 6,
   "metadata": {},
   "outputs": [],
   "source": [
    "# get data from mongodb\n",
    "mongo_data = dr.read_data(mongodb_URI, database_name)"
   ]
  },
  {
   "cell_type": "code",
   "execution_count": 7,
   "metadata": {},
   "outputs": [],
   "source": [
    "# temp list to stora data from database cursor\n",
    "measurements = []"
   ]
  },
  {
   "cell_type": "code",
   "execution_count": 8,
   "metadata": {},
   "outputs": [],
   "source": [
    "# sanitize data\n",
    "for d in mongo_data:\n",
    "    measurements.append(sn.sanitize(d))"
   ]
  },
  {
   "cell_type": "code",
   "execution_count": 9,
   "metadata": {},
   "outputs": [],
   "source": [
    "# Initializing the dataframe\n",
    "data = pd.DataFrame(measurements)"
   ]
  },
  {
   "cell_type": "code",
   "execution_count": 10,
   "metadata": {},
   "outputs": [
    {
     "data": {
      "text/plain": [
       "(1327, 13)"
      ]
     },
     "execution_count": 10,
     "metadata": {},
     "output_type": "execute_result"
    }
   ],
   "source": [
    "# Check the shape of dataframe\n",
    "data.shape"
   ]
  },
  {
   "cell_type": "code",
   "execution_count": 11,
   "metadata": {},
   "outputs": [
    {
     "data": {
      "text/html": [
       "<div>\n",
       "<style scoped>\n",
       "    .dataframe tbody tr th:only-of-type {\n",
       "        vertical-align: middle;\n",
       "    }\n",
       "\n",
       "    .dataframe tbody tr th {\n",
       "        vertical-align: top;\n",
       "    }\n",
       "\n",
       "    .dataframe thead th {\n",
       "        text-align: right;\n",
       "    }\n",
       "</style>\n",
       "<table border=\"1\" class=\"dataframe\">\n",
       "  <thead>\n",
       "    <tr style=\"text-align: right;\">\n",
       "      <th></th>\n",
       "      <th>classification</th>\n",
       "      <th>configuration</th>\n",
       "      <th>drugAmount</th>\n",
       "      <th>etCO2</th>\n",
       "      <th>lockoutInterval</th>\n",
       "      <th>mvpNode</th>\n",
       "      <th>respirationRate</th>\n",
       "      <th>riskValue</th>\n",
       "      <th>takingOtherMedications</th>\n",
       "      <th>o2Supplement</th>\n",
       "      <th>apnea</th>\n",
       "      <th>riskAge</th>\n",
       "      <th>weight</th>\n",
       "    </tr>\n",
       "  </thead>\n",
       "  <tbody>\n",
       "    <tr>\n",
       "      <th>0</th>\n",
       "      <td>1</td>\n",
       "      <td>2</td>\n",
       "      <td>1</td>\n",
       "      <td>43</td>\n",
       "      <td>1</td>\n",
       "      <td>7.86125</td>\n",
       "      <td>12</td>\n",
       "      <td>22.7100</td>\n",
       "      <td>0</td>\n",
       "      <td>0</td>\n",
       "      <td>0</td>\n",
       "      <td>0</td>\n",
       "      <td>2</td>\n",
       "    </tr>\n",
       "    <tr>\n",
       "      <th>1</th>\n",
       "      <td>1</td>\n",
       "      <td>2</td>\n",
       "      <td>1</td>\n",
       "      <td>43</td>\n",
       "      <td>1</td>\n",
       "      <td>7.68750</td>\n",
       "      <td>15</td>\n",
       "      <td>22.5625</td>\n",
       "      <td>0</td>\n",
       "      <td>0</td>\n",
       "      <td>0</td>\n",
       "      <td>0</td>\n",
       "      <td>2</td>\n",
       "    </tr>\n",
       "    <tr>\n",
       "      <th>2</th>\n",
       "      <td>2</td>\n",
       "      <td>2</td>\n",
       "      <td>1</td>\n",
       "      <td>30</td>\n",
       "      <td>1</td>\n",
       "      <td>20.64750</td>\n",
       "      <td>15</td>\n",
       "      <td>35.7825</td>\n",
       "      <td>0</td>\n",
       "      <td>0</td>\n",
       "      <td>0</td>\n",
       "      <td>0</td>\n",
       "      <td>2</td>\n",
       "    </tr>\n",
       "    <tr>\n",
       "      <th>3</th>\n",
       "      <td>2</td>\n",
       "      <td>2</td>\n",
       "      <td>1</td>\n",
       "      <td>30</td>\n",
       "      <td>1</td>\n",
       "      <td>20.62375</td>\n",
       "      <td>15</td>\n",
       "      <td>35.8925</td>\n",
       "      <td>0</td>\n",
       "      <td>0</td>\n",
       "      <td>0</td>\n",
       "      <td>0</td>\n",
       "      <td>2</td>\n",
       "    </tr>\n",
       "    <tr>\n",
       "      <th>4</th>\n",
       "      <td>2</td>\n",
       "      <td>2</td>\n",
       "      <td>1</td>\n",
       "      <td>30</td>\n",
       "      <td>1</td>\n",
       "      <td>20.54875</td>\n",
       "      <td>15</td>\n",
       "      <td>35.4500</td>\n",
       "      <td>0</td>\n",
       "      <td>0</td>\n",
       "      <td>0</td>\n",
       "      <td>0</td>\n",
       "      <td>2</td>\n",
       "    </tr>\n",
       "  </tbody>\n",
       "</table>\n",
       "</div>"
      ],
      "text/plain": [
       "   classification  configuration  drugAmount  etCO2  lockoutInterval  \\\n",
       "0               1              2           1     43                1   \n",
       "1               1              2           1     43                1   \n",
       "2               2              2           1     30                1   \n",
       "3               2              2           1     30                1   \n",
       "4               2              2           1     30                1   \n",
       "\n",
       "    mvpNode  respirationRate  riskValue  takingOtherMedications  o2Supplement  \\\n",
       "0   7.86125               12    22.7100                       0             0   \n",
       "1   7.68750               15    22.5625                       0             0   \n",
       "2  20.64750               15    35.7825                       0             0   \n",
       "3  20.62375               15    35.8925                       0             0   \n",
       "4  20.54875               15    35.4500                       0             0   \n",
       "\n",
       "   apnea  riskAge  weight  \n",
       "0      0        0       2  \n",
       "1      0        0       2  \n",
       "2      0        0       2  \n",
       "3      0        0       2  \n",
       "4      0        0       2  "
      ]
     },
     "execution_count": 11,
     "metadata": {},
     "output_type": "execute_result"
    }
   ],
   "source": [
    "data.head()"
   ]
  },
  {
   "cell_type": "markdown",
   "metadata": {},
   "source": [
    "## Data description\n",
    "\n",
    "#### Risk classifications:\n",
    "* 1 - Negligible\n",
    "* 2 - Minor\n",
    "* 3 - Serious\n",
    "* 4 - Critical\n",
    "* 5 - Catastrophical\n",
    "\n",
    "\n",
    "#### Available Configurations:\n",
    "* 1 - Pulse Oximeter\n",
    "* 2 - Capnometer\n",
    "* 3 - Pulse Oximeter + Capnometer\n",
    "\n",
    "#### Drug Amount Classification:\n",
    "* 1 - Low\n",
    "* 2 - Moderate\n",
    "* 3 - High\n",
    "\n",
    "#### Lockout Interval:\n",
    "* 1 - Low\n",
    "* 2 - Medium\n",
    "* 3 - High\n",
    "\n",
    "#### Level of O2 supplement:\n",
    "* 0 - None\n",
    "* 1 - Minimal\n",
    "* 2 - Medium\n",
    "* 3 - High\n",
    "\n",
    "#### Weight classifications:\n",
    "* 1 - Underweight\n",
    "* 2 - Normal Weight\n",
    "* 3 - Overweight\n",
    "* 4 - Obesity I\n",
    "* 5 - Obesity II\n",
    "* 6 - Obesity III\n",
    "\n",
    "#### Is Taking Other Medications, has Apnea and has a risk age:\n",
    "* 0 - No (false)\n",
    "* 1 - Yes (true)"
   ]
  },
  {
   "cell_type": "code",
   "execution_count": 12,
   "metadata": {},
   "outputs": [
    {
     "data": {
      "text/html": [
       "<div>\n",
       "<style scoped>\n",
       "    .dataframe tbody tr th:only-of-type {\n",
       "        vertical-align: middle;\n",
       "    }\n",
       "\n",
       "    .dataframe tbody tr th {\n",
       "        vertical-align: top;\n",
       "    }\n",
       "\n",
       "    .dataframe thead th {\n",
       "        text-align: right;\n",
       "    }\n",
       "</style>\n",
       "<table border=\"1\" class=\"dataframe\">\n",
       "  <thead>\n",
       "    <tr style=\"text-align: right;\">\n",
       "      <th></th>\n",
       "      <th>classification</th>\n",
       "      <th>configuration</th>\n",
       "      <th>drugAmount</th>\n",
       "      <th>etCO2</th>\n",
       "      <th>lockoutInterval</th>\n",
       "      <th>mvpNode</th>\n",
       "      <th>respirationRate</th>\n",
       "      <th>riskValue</th>\n",
       "      <th>takingOtherMedications</th>\n",
       "      <th>o2Supplement</th>\n",
       "      <th>apnea</th>\n",
       "      <th>riskAge</th>\n",
       "      <th>weight</th>\n",
       "    </tr>\n",
       "  </thead>\n",
       "  <tbody>\n",
       "    <tr>\n",
       "      <th>count</th>\n",
       "      <td>1327.000000</td>\n",
       "      <td>1327.0</td>\n",
       "      <td>1327.0</td>\n",
       "      <td>1327.000000</td>\n",
       "      <td>1327.0</td>\n",
       "      <td>1327.000000</td>\n",
       "      <td>1327.000000</td>\n",
       "      <td>1327.000000</td>\n",
       "      <td>1327.0</td>\n",
       "      <td>1327.0</td>\n",
       "      <td>1327.0</td>\n",
       "      <td>1327.0</td>\n",
       "      <td>1327.0</td>\n",
       "    </tr>\n",
       "    <tr>\n",
       "      <th>mean</th>\n",
       "      <td>1.998493</td>\n",
       "      <td>2.0</td>\n",
       "      <td>1.0</td>\n",
       "      <td>30.019593</td>\n",
       "      <td>1.0</td>\n",
       "      <td>20.605196</td>\n",
       "      <td>14.997739</td>\n",
       "      <td>35.784215</td>\n",
       "      <td>0.0</td>\n",
       "      <td>0.0</td>\n",
       "      <td>0.0</td>\n",
       "      <td>0.0</td>\n",
       "      <td>2.0</td>\n",
       "    </tr>\n",
       "    <tr>\n",
       "      <th>std</th>\n",
       "      <td>0.038808</td>\n",
       "      <td>0.0</td>\n",
       "      <td>0.0</td>\n",
       "      <td>0.504498</td>\n",
       "      <td>0.0</td>\n",
       "      <td>0.508681</td>\n",
       "      <td>0.082354</td>\n",
       "      <td>0.558512</td>\n",
       "      <td>0.0</td>\n",
       "      <td>0.0</td>\n",
       "      <td>0.0</td>\n",
       "      <td>0.0</td>\n",
       "      <td>0.0</td>\n",
       "    </tr>\n",
       "    <tr>\n",
       "      <th>min</th>\n",
       "      <td>1.000000</td>\n",
       "      <td>2.0</td>\n",
       "      <td>1.0</td>\n",
       "      <td>30.000000</td>\n",
       "      <td>1.0</td>\n",
       "      <td>7.687500</td>\n",
       "      <td>12.000000</td>\n",
       "      <td>22.562500</td>\n",
       "      <td>0.0</td>\n",
       "      <td>0.0</td>\n",
       "      <td>0.0</td>\n",
       "      <td>0.0</td>\n",
       "      <td>2.0</td>\n",
       "    </tr>\n",
       "    <tr>\n",
       "      <th>25%</th>\n",
       "      <td>2.000000</td>\n",
       "      <td>2.0</td>\n",
       "      <td>1.0</td>\n",
       "      <td>30.000000</td>\n",
       "      <td>1.0</td>\n",
       "      <td>20.558750</td>\n",
       "      <td>15.000000</td>\n",
       "      <td>35.647500</td>\n",
       "      <td>0.0</td>\n",
       "      <td>0.0</td>\n",
       "      <td>0.0</td>\n",
       "      <td>0.0</td>\n",
       "      <td>2.0</td>\n",
       "    </tr>\n",
       "    <tr>\n",
       "      <th>50%</th>\n",
       "      <td>2.000000</td>\n",
       "      <td>2.0</td>\n",
       "      <td>1.0</td>\n",
       "      <td>30.000000</td>\n",
       "      <td>1.0</td>\n",
       "      <td>20.622500</td>\n",
       "      <td>15.000000</td>\n",
       "      <td>35.812500</td>\n",
       "      <td>0.0</td>\n",
       "      <td>0.0</td>\n",
       "      <td>0.0</td>\n",
       "      <td>0.0</td>\n",
       "      <td>2.0</td>\n",
       "    </tr>\n",
       "    <tr>\n",
       "      <th>75%</th>\n",
       "      <td>2.000000</td>\n",
       "      <td>2.0</td>\n",
       "      <td>1.0</td>\n",
       "      <td>30.000000</td>\n",
       "      <td>1.0</td>\n",
       "      <td>20.694375</td>\n",
       "      <td>15.000000</td>\n",
       "      <td>35.952500</td>\n",
       "      <td>0.0</td>\n",
       "      <td>0.0</td>\n",
       "      <td>0.0</td>\n",
       "      <td>0.0</td>\n",
       "      <td>2.0</td>\n",
       "    </tr>\n",
       "    <tr>\n",
       "      <th>max</th>\n",
       "      <td>2.000000</td>\n",
       "      <td>2.0</td>\n",
       "      <td>1.0</td>\n",
       "      <td>43.000000</td>\n",
       "      <td>1.0</td>\n",
       "      <td>21.105000</td>\n",
       "      <td>15.000000</td>\n",
       "      <td>36.500000</td>\n",
       "      <td>0.0</td>\n",
       "      <td>0.0</td>\n",
       "      <td>0.0</td>\n",
       "      <td>0.0</td>\n",
       "      <td>2.0</td>\n",
       "    </tr>\n",
       "  </tbody>\n",
       "</table>\n",
       "</div>"
      ],
      "text/plain": [
       "       classification  configuration  drugAmount        etCO2  \\\n",
       "count     1327.000000         1327.0      1327.0  1327.000000   \n",
       "mean         1.998493            2.0         1.0    30.019593   \n",
       "std          0.038808            0.0         0.0     0.504498   \n",
       "min          1.000000            2.0         1.0    30.000000   \n",
       "25%          2.000000            2.0         1.0    30.000000   \n",
       "50%          2.000000            2.0         1.0    30.000000   \n",
       "75%          2.000000            2.0         1.0    30.000000   \n",
       "max          2.000000            2.0         1.0    43.000000   \n",
       "\n",
       "       lockoutInterval      mvpNode  respirationRate    riskValue  \\\n",
       "count           1327.0  1327.000000      1327.000000  1327.000000   \n",
       "mean               1.0    20.605196        14.997739    35.784215   \n",
       "std                0.0     0.508681         0.082354     0.558512   \n",
       "min                1.0     7.687500        12.000000    22.562500   \n",
       "25%                1.0    20.558750        15.000000    35.647500   \n",
       "50%                1.0    20.622500        15.000000    35.812500   \n",
       "75%                1.0    20.694375        15.000000    35.952500   \n",
       "max                1.0    21.105000        15.000000    36.500000   \n",
       "\n",
       "       takingOtherMedications  o2Supplement   apnea  riskAge  weight  \n",
       "count                  1327.0        1327.0  1327.0   1327.0  1327.0  \n",
       "mean                      0.0           0.0     0.0      0.0     2.0  \n",
       "std                       0.0           0.0     0.0      0.0     0.0  \n",
       "min                       0.0           0.0     0.0      0.0     2.0  \n",
       "25%                       0.0           0.0     0.0      0.0     2.0  \n",
       "50%                       0.0           0.0     0.0      0.0     2.0  \n",
       "75%                       0.0           0.0     0.0      0.0     2.0  \n",
       "max                       0.0           0.0     0.0      0.0     2.0  "
      ]
     },
     "execution_count": 12,
     "metadata": {},
     "output_type": "execute_result"
    }
   ],
   "source": [
    "# Viewing the data statistics\n",
    "data.describe()"
   ]
  },
  {
   "cell_type": "code",
   "execution_count": 13,
   "metadata": {},
   "outputs": [
    {
     "data": {
      "text/plain": [
       "(13, 13)"
      ]
     },
     "execution_count": 13,
     "metadata": {},
     "output_type": "execute_result"
    }
   ],
   "source": [
    "# Finding out the correlation between the features\n",
    "corr = data.corr()\n",
    "corr.shape"
   ]
  },
  {
   "cell_type": "code",
   "execution_count": 14,
   "metadata": {},
   "outputs": [
    {
     "data": {
      "text/plain": [
       "<AxesSubplot:>"
      ]
     },
     "execution_count": 14,
     "metadata": {},
     "output_type": "execute_result"
    },
    {
     "data": {
      "image/png": "[encoded data removed]",
      "text/plain": [
       "<Figure size 720x720 with 2 Axes>"
      ]
     },
     "metadata": {
      "needs_background": "light"
     },
     "output_type": "display_data"
    }
   ],
   "source": [
    "# Plotting the heatmap of correlation between features\n",
    "plt.figure(figsize=(10, 10))\n",
    "sns.heatmap(\n",
    "    corr,\n",
    "    cbar=True,\n",
    "    square=True,\n",
    "    fmt=\".1f\",\n",
    "    annot=True,\n",
    "    annot_kws={\"size\": 10},\n",
    "    cmap=\"Blues\",\n",
    ")"
   ]
  },
  {
   "cell_type": "code",
   "execution_count": 15,
   "metadata": {},
   "outputs": [],
   "source": [
    "# Spliting target variable and independent variables\n",
    "X = data.drop([\"riskValue\"], axis=1)\n",
    "y = data[\"riskValue\"]"
   ]
  },
  {
   "cell_type": "code",
   "execution_count": 16,
   "metadata": {},
   "outputs": [],
   "source": [
    "# Splitting to training and testing data\n",
    "\n",
    "from sklearn.model_selection import train_test_split\n",
    "\n",
    "X_train, X_test, y_train, y_test = train_test_split(X, y, test_size=0.3, random_state=4)"
   ]
  },
  {
   "cell_type": "markdown",
   "metadata": {},
   "source": [
    "# Linear regression"
   ]
  },
  {
   "cell_type": "markdown",
   "metadata": {},
   "source": [
    "#### Training the model"
   ]
  },
  {
   "cell_type": "code",
   "execution_count": 17,
   "metadata": {},
   "outputs": [
    {
     "data": {
      "text/plain": [
       "LinearRegression()"
      ]
     },
     "execution_count": 17,
     "metadata": {},
     "output_type": "execute_result"
    }
   ],
   "source": [
    "# Import library for Linear Regression\n",
    "from sklearn.linear_model import LinearRegression\n",
    "\n",
    "# Create a Linear regressor\n",
    "lm = LinearRegression()\n",
    "\n",
    "# Train the model using the training sets\n",
    "lm.fit(X_train, y_train)"
   ]
  },
  {
   "cell_type": "code",
   "execution_count": 18,
   "metadata": {},
   "outputs": [
    {
     "data": {
      "text/plain": [
       "218885438356668.03"
      ]
     },
     "execution_count": 18,
     "metadata": {},
     "output_type": "execute_result"
    }
   ],
   "source": [
    "# Value of y intercept\n",
    "lm.intercept_"
   ]
  },
  {
   "cell_type": "code",
   "execution_count": 19,
   "metadata": {},
   "outputs": [
    {
     "data": {
      "text/html": [
       "<div>\n",
       "<style scoped>\n",
       "    .dataframe tbody tr th:only-of-type {\n",
       "        vertical-align: middle;\n",
       "    }\n",
       "\n",
       "    .dataframe tbody tr th {\n",
       "        vertical-align: top;\n",
       "    }\n",
       "\n",
       "    .dataframe thead th {\n",
       "        text-align: right;\n",
       "    }\n",
       "</style>\n",
       "<table border=\"1\" class=\"dataframe\">\n",
       "  <thead>\n",
       "    <tr style=\"text-align: right;\">\n",
       "      <th></th>\n",
       "      <th>Attribute</th>\n",
       "      <th>Coefficients</th>\n",
       "    </tr>\n",
       "  </thead>\n",
       "  <tbody>\n",
       "    <tr>\n",
       "      <th>0</th>\n",
       "      <td>classification</td>\n",
       "      <td>-5.08316e+13</td>\n",
       "    </tr>\n",
       "    <tr>\n",
       "      <th>1</th>\n",
       "      <td>configuration</td>\n",
       "      <td>3.99508e+10</td>\n",
       "    </tr>\n",
       "    <tr>\n",
       "      <th>2</th>\n",
       "      <td>drugAmount</td>\n",
       "      <td>1.37181e+09</td>\n",
       "    </tr>\n",
       "    <tr>\n",
       "      <th>3</th>\n",
       "      <td>etCO2</td>\n",
       "      <td>-3.91012e+12</td>\n",
       "    </tr>\n",
       "    <tr>\n",
       "      <th>4</th>\n",
       "      <td>lockoutInterval</td>\n",
       "      <td>0</td>\n",
       "    </tr>\n",
       "    <tr>\n",
       "      <th>5</th>\n",
       "      <td>mvpNode</td>\n",
       "      <td>0.0148271</td>\n",
       "    </tr>\n",
       "    <tr>\n",
       "      <th>6</th>\n",
       "      <td>respirationRate</td>\n",
       "      <td>-0.0482793</td>\n",
       "    </tr>\n",
       "    <tr>\n",
       "      <th>7</th>\n",
       "      <td>takingOtherMedications</td>\n",
       "      <td>0</td>\n",
       "    </tr>\n",
       "    <tr>\n",
       "      <th>8</th>\n",
       "      <td>o2Supplement</td>\n",
       "      <td>0</td>\n",
       "    </tr>\n",
       "    <tr>\n",
       "      <th>9</th>\n",
       "      <td>apnea</td>\n",
       "      <td>0</td>\n",
       "    </tr>\n",
       "    <tr>\n",
       "      <th>10</th>\n",
       "      <td>riskAge</td>\n",
       "      <td>0</td>\n",
       "    </tr>\n",
       "    <tr>\n",
       "      <th>11</th>\n",
       "      <td>weight</td>\n",
       "      <td>0</td>\n",
       "    </tr>\n",
       "  </tbody>\n",
       "</table>\n",
       "</div>"
      ],
      "text/plain": [
       "                 Attribute Coefficients\n",
       "0           classification -5.08316e+13\n",
       "1            configuration  3.99508e+10\n",
       "2               drugAmount  1.37181e+09\n",
       "3                    etCO2 -3.91012e+12\n",
       "4          lockoutInterval            0\n",
       "5                  mvpNode    0.0148271\n",
       "6          respirationRate   -0.0482793\n",
       "7   takingOtherMedications            0\n",
       "8             o2Supplement            0\n",
       "9                    apnea            0\n",
       "10                 riskAge            0\n",
       "11                  weight            0"
      ]
     },
     "execution_count": 19,
     "metadata": {},
     "output_type": "execute_result"
    }
   ],
   "source": [
    "# Converting the coefficient values to a dataframe\n",
    "coeffcients = pd.DataFrame([X_train.columns, lm.coef_]).T\n",
    "coeffcients = coeffcients.rename(columns={0: \"Attribute\", 1: \"Coefficients\"})\n",
    "coeffcients"
   ]
  },
  {
   "cell_type": "code",
   "execution_count": 20,
   "metadata": {},
   "outputs": [],
   "source": [
    "# Model prediction on train data\n",
    "y_pred = lm.predict(X_train)"
   ]
  },
  {
   "cell_type": "code",
   "execution_count": 21,
   "metadata": {},
   "outputs": [
    {
     "name": "stdout",
     "output_type": "stream",
     "text": [
      "R^2: 0.8825090434490934\n",
      "Adjusted R^2: 0.8809681784451471\n",
      "MAE: 0.17985991379310357\n",
      "MSE: 0.049619739224138\n",
      "RMSE: 0.2227548859714148\n"
     ]
    }
   ],
   "source": [
    "# Model Evaluation\n",
    "print(\"R^2:\", metrics.r2_score(y_train, y_pred))\n",
    "print(\n",
    "    \"Adjusted R^2:\",\n",
    "    1\n",
    "    - (1 - metrics.r2_score(y_train, y_pred))\n",
    "    * (len(y_train) - 1)\n",
    "    / (len(y_train) - X_train.shape[1] - 1),\n",
    ")\n",
    "print(\"MAE:\", metrics.mean_absolute_error(y_train, y_pred))\n",
    "print(\"MSE:\", metrics.mean_squared_error(y_train, y_pred))\n",
    "print(\"RMSE:\", np.sqrt(metrics.mean_squared_error(y_train, y_pred)))"
   ]
  },
  {
   "cell_type": "code",
   "execution_count": 22,
   "metadata": {},
   "outputs": [
    {
     "data": {
      "image/png": "[encoded data removed]",
      "text/plain": [
       "<Figure size 432x288 with 1 Axes>"
      ]
     },
     "metadata": {
      "needs_background": "light"
     },
     "output_type": "display_data"
    }
   ],
   "source": [
    "plt.scatter(y_train, y_pred)\n",
    "plt.xlabel(\"Risk Value\")\n",
    "plt.ylabel(\"Predicted risk\")\n",
    "plt.title(\"Risk vs Predicted Risk\")\n",
    "plt.show()"
   ]
  },
  {
   "cell_type": "code",
   "execution_count": 23,
   "metadata": {},
   "outputs": [
    {
     "data": {
      "image/png": "[encoded data removed]",
      "text/plain": [
       "<Figure size 432x288 with 1 Axes>"
      ]
     },
     "metadata": {
      "needs_background": "light"
     },
     "output_type": "display_data"
    }
   ],
   "source": [
    "# Checking residuals\n",
    "plt.scatter(y_pred, y_train - y_pred)\n",
    "plt.title(\"Predicted vs residuals\")\n",
    "plt.xlabel(\"Predicted\")\n",
    "plt.ylabel(\"Residuals\")\n",
    "plt.show()"
   ]
  },
  {
   "cell_type": "code",
   "execution_count": 24,
   "metadata": {},
   "outputs": [
    {
     "name": "stdout",
     "output_type": "stream",
     "text": [
      "Prediction: 35.81 Value: 35.85\n",
      "Prediction: 35.81 Value: 36.16\n",
      "Prediction: 35.81 Value: 35.62\n",
      "Prediction: 35.81 Value: 35.92\n",
      "Prediction: 35.81 Value: 35.70\n",
      "Prediction: 35.81 Value: 35.80\n",
      "Prediction: 35.81 Value: 35.86\n",
      "Prediction: 35.81 Value: 35.86\n",
      "Prediction: 35.81 Value: 35.50\n",
      "Prediction: 35.81 Value: 35.84\n",
      "Prediction: 35.81 Value: 35.74\n",
      "Prediction: 35.81 Value: 35.60\n",
      "Prediction: 35.81 Value: 35.47\n",
      "Prediction: 35.81 Value: 35.90\n",
      "Prediction: 35.81 Value: 35.39\n",
      "Prediction: 35.81 Value: 35.74\n",
      "Prediction: 35.81 Value: 36.15\n",
      "Prediction: 35.81 Value: 35.75\n",
      "Prediction: 35.81 Value: 35.59\n",
      "Prediction: 35.81 Value: 35.08\n"
     ]
    }
   ],
   "source": [
    "predictions = lm.predict(X_test)\n",
    "y_list = y_test.to_list()\n",
    "\n",
    "for i in range(20):\n",
    "    print(\n",
    "        \"Prediction: {:.2f}\".format(predictions[i]), \"Value: {:.2f}\".format(y_list[i])\n",
    "    )"
   ]
  },
  {
   "cell_type": "markdown",
   "metadata": {},
   "source": [
    "# SVM Regressor\n"
   ]
  },
  {
   "cell_type": "code",
   "execution_count": 25,
   "metadata": {},
   "outputs": [],
   "source": [
    "# Creating scaled set to be used in model to improve our results\n",
    "from sklearn.preprocessing import StandardScaler\n",
    "\n",
    "sc = StandardScaler()\n",
    "X_train = sc.fit_transform(X_train)\n",
    "X_test = sc.transform(X_test)"
   ]
  },
  {
   "cell_type": "markdown",
   "metadata": {},
   "source": [
    "#### Train the model"
   ]
  },
  {
   "cell_type": "code",
   "execution_count": 26,
   "metadata": {},
   "outputs": [],
   "source": [
    "# Import SVM Regressor\n",
    "from sklearn import svm\n",
    "\n",
    "# Create a SVM Regressor\n",
    "reg = svm.SVR()"
   ]
  },
  {
   "cell_type": "code",
   "execution_count": 27,
   "metadata": {},
   "outputs": [
    {
     "data": {
      "text/plain": [
       "SVR()"
      ]
     },
     "execution_count": 27,
     "metadata": {},
     "output_type": "execute_result"
    }
   ],
   "source": [
    "# Train the model using the training sets\n",
    "reg.fit(X_train, y_train)"
   ]
  },
  {
   "cell_type": "markdown",
   "metadata": {},
   "source": [
    "#### Model Evaluation"
   ]
  },
  {
   "cell_type": "code",
   "execution_count": 28,
   "metadata": {},
   "outputs": [],
   "source": [
    "# Model prediction on train data\n",
    "y_pred = reg.predict(X_train)"
   ]
  },
  {
   "cell_type": "code",
   "execution_count": 29,
   "metadata": {},
   "outputs": [
    {
     "name": "stdout",
     "output_type": "stream",
     "text": [
      "R^2: 0.3342369197959222\n",
      "Adjusted R^2: 0.32550560071127854\n",
      "MAE: 0.201934729499232\n",
      "MSE: 0.28117049511356906\n",
      "RMSE: 0.5302551226660324\n"
     ]
    }
   ],
   "source": [
    "# Model Evaluation\n",
    "print(\"R^2:\", metrics.r2_score(y_train, y_pred))\n",
    "print(\n",
    "    \"Adjusted R^2:\",\n",
    "    1\n",
    "    - (1 - metrics.r2_score(y_train, y_pred))\n",
    "    * (len(y_train) - 1)\n",
    "    / (len(y_train) - X_train.shape[1] - 1),\n",
    ")\n",
    "print(\"MAE:\", metrics.mean_absolute_error(y_train, y_pred))\n",
    "print(\"MSE:\", metrics.mean_squared_error(y_train, y_pred))\n",
    "print(\"RMSE:\", np.sqrt(metrics.mean_squared_error(y_train, y_pred)))"
   ]
  },
  {
   "cell_type": "code",
   "execution_count": 30,
   "metadata": {},
   "outputs": [
    {
     "data": {
      "image/png": "[encoded data removed]",
      "text/plain": [
       "<Figure size 432x288 with 1 Axes>"
      ]
     },
     "metadata": {
      "needs_background": "light"
     },
     "output_type": "display_data"
    }
   ],
   "source": [
    "plt.scatter(y_train, y_pred)\n",
    "plt.xlabel(\"Risk\")\n",
    "plt.ylabel(\"Predicted risk\")\n",
    "plt.title(\"Risk vs Predicted risk\")\n",
    "plt.show()"
   ]
  },
  {
   "cell_type": "code",
   "execution_count": 31,
   "metadata": {},
   "outputs": [
    {
     "data": {
      "image/png": "[encoded data removed]",
      "text/plain": [
       "<Figure size 432x288 with 1 Axes>"
      ]
     },
     "metadata": {
      "needs_background": "light"
     },
     "output_type": "display_data"
    }
   ],
   "source": [
    "# Checking residuals\n",
    "plt.scatter(y_pred, y_train - y_pred)\n",
    "plt.title(\"Predicted vs residuals\")\n",
    "plt.xlabel(\"Predicted\")\n",
    "plt.ylabel(\"Residuals\")\n",
    "plt.show()"
   ]
  },
  {
   "cell_type": "markdown",
   "metadata": {},
   "source": [
    "#### For test data"
   ]
  },
  {
   "cell_type": "code",
   "execution_count": 32,
   "metadata": {},
   "outputs": [],
   "source": [
    "# Predicting Test data with the model\n",
    "y_test_pred = reg.predict(X_test)"
   ]
  },
  {
   "cell_type": "code",
   "execution_count": 33,
   "metadata": {},
   "outputs": [
    {
     "name": "stdout",
     "output_type": "stream",
     "text": [
      "R^2: -0.012273949229337111\n",
      "Adjusted R^2: -0.04374360568206259\n",
      "MAE: 0.18488287480296872\n",
      "MSE: 0.05433593848809275\n",
      "RMSE: 0.23310070460659862\n"
     ]
    }
   ],
   "source": [
    "# Model Evaluation\n",
    "acc_svm = metrics.r2_score(y_test, y_test_pred)\n",
    "print(\"R^2:\", acc_svm)\n",
    "print(\n",
    "    \"Adjusted R^2:\",\n",
    "    1\n",
    "    - (1 - metrics.r2_score(y_test, y_test_pred))\n",
    "    * (len(y_test) - 1)\n",
    "    / (len(y_test) - X_test.shape[1] - 1),\n",
    ")\n",
    "print(\"MAE:\", metrics.mean_absolute_error(y_test, y_test_pred))\n",
    "print(\"MSE:\", metrics.mean_squared_error(y_test, y_test_pred))\n",
    "print(\"RMSE:\", np.sqrt(metrics.mean_squared_error(y_test, y_test_pred)))"
   ]
  },
  {
   "cell_type": "code",
   "execution_count": 34,
   "metadata": {},
   "outputs": [
    {
     "name": "stdout",
     "output_type": "stream",
     "text": [
      "Prediction: 216704814192894.25 Value: 35.85\n",
      "Prediction: 216704814192894.25 Value: 36.16\n",
      "Prediction: 216704814192894.25 Value: 35.62\n",
      "Prediction: 216704814192894.25 Value: 35.92\n",
      "Prediction: 216704814192894.25 Value: 35.70\n",
      "Prediction: 216704814192894.25 Value: 35.80\n",
      "Prediction: 216704814192894.25 Value: 35.86\n",
      "Prediction: 216704814192894.25 Value: 35.86\n",
      "Prediction: 216704814192894.25 Value: 35.50\n",
      "Prediction: 216704814192894.25 Value: 35.84\n",
      "Prediction: 216704814192894.25 Value: 35.74\n",
      "Prediction: 216704814192894.25 Value: 35.60\n",
      "Prediction: 216704814192894.25 Value: 35.47\n",
      "Prediction: 216704814192894.25 Value: 35.90\n",
      "Prediction: 216704814192894.25 Value: 35.39\n",
      "Prediction: 216704814192894.25 Value: 35.74\n",
      "Prediction: 216704814192894.25 Value: 36.15\n",
      "Prediction: 216704814192894.25 Value: 35.75\n",
      "Prediction: 216704814192894.25 Value: 35.59\n",
      "Prediction: 216704814192894.25 Value: 35.08\n"
     ]
    }
   ],
   "source": [
    "predictions = lm.predict(X_test)\n",
    "y_list = y_test.to_list()\n",
    "\n",
    "for i in range(20):\n",
    "    print(\n",
    "        \"Prediction: {:.2f}\".format(predictions[i]), \"Value: {:.2f}\".format(y_list[i])\n",
    "    )"
   ]
  },
  {
   "cell_type": "code",
   "execution_count": null,
   "metadata": {},
   "outputs": [],
   "source": []
  },
  {
   "cell_type": "code",
   "execution_count": null,
   "metadata": {},
   "outputs": [],
   "source": []
  }
 ],
 "metadata": {
  "kernelspec": {
   "display_name": "monitor_kernel",
   "language": "python",
   "name": "monitor_kernel"
  },
  "language_info": {
   "codemirror_mode": {
    "name": "ipython",
    "version": 3
   },
   "file_extension": ".py",
   "mimetype": "text/x-python",
   "name": "python",
   "nbconvert_exporter": "python",
   "pygments_lexer": "ipython3",
   "version": "3.6.13"
  }
 },
 "nbformat": 4,
 "nbformat_minor": 5
}
